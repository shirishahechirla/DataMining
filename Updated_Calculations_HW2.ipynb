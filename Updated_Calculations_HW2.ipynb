{
 "cells": [
  {
   "cell_type": "code",
   "execution_count": null,
   "id": "08ce5ea1",
   "metadata": {},
   "outputs": [],
   "source": [
    "import math as m\n",
    "def log(x):\n",
    "    try:\n",
    "        return m.log(x,2)\n",
    "    except:\n",
    "        return 0"
   ]
  },
  {
   "cell_type": "code",
   "execution_count": null,
   "id": "44a8bb34",
   "metadata": {},
   "outputs": [],
   "source": [
    "\n",
    "import math as m\n",
    "\n",
    "# Updated to use a more descriptive function name\n",
    "def log_base_2(value):\n",
    "    try:\n",
    "        return m.log(value, 2)\n",
    "    except:\n",
    "        return 0\n",
    "\n",
    "# Updated function parameter for clarity\n",
    "def entropy(probabilities):\n",
    "    total_entropy = 0\n",
    "    for prob in probabilities:\n",
    "        total_entropy += prob * log_base_2(prob)\n",
    "    return -total_entropy\n"
   ]
  },
  {
   "cell_type": "code",
   "execution_count": null,
   "id": "2bc186e3",
   "metadata": {},
   "outputs": [],
   "source": [
    "entropy([0.41,0.46,0.13])"
   ]
  },
  {
   "cell_type": "code",
   "execution_count": null,
   "id": "6e88a6cf",
   "metadata": {},
   "outputs": [],
   "source": [
    "\n",
    "# Updated variable names for clarity\n",
    "probability_smoke_yes_lung_cancer_yes = 4/5\n",
    "probability_smoke_yes_lung_cancer_no = 1/5\n",
    "probability_smoke_no_lung_cancer_yes = 1/5\n",
    "probability_smoke_no_lung_cancer_no = 4/5\n",
    "\n",
    "# Calculate entropy for different scenarios\n",
    "entropy_smoke_yes = entropy([probability_smoke_yes_lung_cancer_yes, probability_smoke_yes_lung_cancer_no])\n",
    "entropy_smoke_no = entropy_smoke_yes  # Assuming observations in the child nodes are the same\n",
    "\n",
    "entropy_smoke_no\n"
   ]
  }
 ],
 "metadata": {},
 "nbformat": 4,
 "nbformat_minor": 5
}
